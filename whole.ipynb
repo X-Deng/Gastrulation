{
 "cells": [
  {
   "cell_type": "code",
   "execution_count": 1,
   "id": "38284eee-f1a5-4bc9-a15e-33a5d43a112f",
   "metadata": {},
   "outputs": [],
   "source": [
    "import tifffile\n",
    "import numpy as np\n",
    "from skimage.registration import optical_flow_tvl1\n",
    "from skimage.transform import warp\n",
    "from scipy.ndimage import map_coordinates\n",
    "import matplotlib.pyplot as plt\n",
    "from mpl_toolkits.mplot3d import Axes3D\n",
    "import os\n",
    "import plotly.graph_objects as go\n",
    "import tqdm"
   ]
  },
  {
   "cell_type": "markdown",
   "id": "7c235055-d7aa-4d62-83de-422ab9952681",
   "metadata": {},
   "source": [
    "## Load the original image "
   ]
  },
  {
   "cell_type": "code",
   "execution_count": 2,
   "id": "5a89ffbb-132e-43b4-9a2f-9db34ff589c0",
   "metadata": {},
   "outputs": [
    {
     "name": "stdout",
     "output_type": "stream",
     "text": [
      "Original shape: (56, 59, 2, 512, 512)\n"
     ]
    }
   ],
   "source": [
    "# Define the relative path from your script location\n",
    "relative_path = \"MergedmTmG2.tif\"\n",
    "\n",
    "# Get the absolute path based on the current working directory\n",
    "abs_path = os.path.join(os.getcwd(), relative_path)\n",
    "\n",
    "# Load the image\n",
    "MergedmTmG2 = tifffile.imread(abs_path)\n",
    "\n",
    "# Check the original shape\n",
    "print(f\"Original shape: {MergedmTmG2.shape}\")  # Expected: (56, 59, 3, 512, 512)"
   ]
  },
  {
   "cell_type": "code",
   "execution_count": 3,
   "id": "fbd51133-28a3-4114-918c-babfc7eb3845",
   "metadata": {},
   "outputs": [],
   "source": [
    "# # Define the relative file paths\n",
    "# input_filename = \"MergedmTmG2.tif\"\n",
    "# output_filename_ch0 = \"MergedmTmG2_Ch0.tif\"\n",
    "# output_filename_ch1 = \"MergedmTmG2_Ch1.tif\"\n",
    "\n",
    "# # Get the absolute paths based on the script's working directory\n",
    "# input_path = os.path.join(os.getcwd(), input_filename)\n",
    "# output_path_ch0 = os.path.join(os.getcwd(), output_filename_ch0)\n",
    "# output_path_ch1 = os.path.join(os.getcwd(), output_filename_ch1)\n",
    "\n",
    "# # Load the image\n",
    "# whole_image = tifffile.imread(input_path)\n",
    "\n",
    "# # Split the channels\n",
    "# channel_0 = whole_image[:, :, 0, :, :]  # First channel\n",
    "# channel_1 = whole_image[:, :, 1, :, :]  # Second channel\n",
    "\n",
    "# # Save each channel with metadata\n",
    "# tifffile.imwrite(output_path_ch0, channel_0, imagej=True, metadata={'axes': 'TZYX'})\n",
    "# tifffile.imwrite(output_path_ch1, channel_1, imagej=True, metadata={'axes': 'TZYX'})\n",
    "\n",
    "# print(f\"Channel 0 saved at: {output_path_ch0}\")\n",
    "# print(f\"Channel 1 saved at: {output_path_ch1}\")\n"
   ]
  },
  {
   "cell_type": "code",
   "execution_count": 4,
   "id": "ec4bc857-5652-47a0-be10-2c73f8f89c64",
   "metadata": {},
   "outputs": [
    {
     "name": "stdout",
     "output_type": "stream",
     "text": [
      "MergedmTmG2_Ch0 shape: (56, 59, 512, 512)\n",
      "MergedmTmG2_Ch1 shape: (56, 59, 512, 512)\n"
     ]
    }
   ],
   "source": [
    "# Define the relative paths\n",
    "filename_ch0 = \"MergedmTmG2_Ch0.tif\"\n",
    "filename_ch1 = \"MergedmTmG2_Ch1.tif\"\n",
    "\n",
    "# Get the absolute paths based on the script's working directory\n",
    "path_ch0 = os.path.join(os.getcwd(), filename_ch0)\n",
    "path_ch1 = os.path.join(os.getcwd(), filename_ch1)\n",
    "\n",
    "# Load the images\n",
    "MergedmTmG2_Ch0 = tifffile.imread(path_ch0)\n",
    "MergedmTmG2_Ch1 = tifffile.imread(path_ch1)\n",
    "\n",
    "# Check the shape\n",
    "print(f\"MergedmTmG2_Ch0 shape: {MergedmTmG2_Ch0.shape}\")  # Expected: (56, 59, 512, 512)\n",
    "print(f\"MergedmTmG2_Ch1 shape: {MergedmTmG2_Ch1.shape}\")  # Expected: (56, 59, 512, 512)"
   ]
  },
  {
   "cell_type": "code",
   "execution_count": 5,
   "id": "a479bbf7-c152-4102-b933-c58e66a31df5",
   "metadata": {},
   "outputs": [
    {
     "name": "stdout",
     "output_type": "stream",
     "text": [
      "Image stack dimensions (time, z, height, width): (56, 59, 512, 512)\n"
     ]
    }
   ],
   "source": [
    "print(f\"Image stack dimensions (time, z, height, width): {MergedmTmG2_Ch0.shape}\")\n",
    "t, z, height, width = MergedmTmG2_Ch0.shape\n"
   ]
  },
  {
   "cell_type": "code",
   "execution_count": null,
   "id": "b398d12d-8b20-4a9d-89a6-29b1f04507e0",
   "metadata": {},
   "outputs": [],
   "source": []
  },
  {
   "cell_type": "markdown",
   "id": "5c04f9b2-bfe5-4cfc-9745-8aefd144a5f7",
   "metadata": {},
   "source": [
    "## Calculation of 3D optical Flow (Ch0 and Ch1) in whole image"
   ]
  },
  {
   "cell_type": "code",
   "execution_count": 6,
   "id": "f731bb78-4c6a-43a2-ab3e-58ba9125fc89",
   "metadata": {},
   "outputs": [],
   "source": [
    "# Function to calculate optical flow for a given channel\n",
    "def calculate_optical_flow(channel_data, channel_name):\n",
    "    print(f\"Starting Optical Flow Calculation for {channel_name}...\")\n",
    "\n",
    "    # Initialize results lists\n",
    "    magnitude_results = []\n",
    "    flow_x_results = []\n",
    "    flow_y_results = []\n",
    "    flow_z_results = []\n",
    "\n",
    "    # Iterate through time steps\n",
    "    for i in tqdm.tqdm(range(channel_data.shape[0] - 1), desc=f\"Calculating Optical Flow ({channel_name})\"):\n",
    "        image0 = channel_data[i].astype(np.float16)\n",
    "        image1 = channel_data[i + 1].astype(np.float16)\n",
    "\n",
    "        # Compute optical flow\n",
    "        flow_z, flow_y, flow_x = optical_flow_tvl1(image0, image1)\n",
    "        magnitude = np.sqrt(flow_x**2 + flow_y**2 + flow_z**2)\n",
    "\n",
    "        # Store results\n",
    "        magnitude_results.append(magnitude)\n",
    "        flow_x_results.append(flow_x)\n",
    "        flow_y_results.append(flow_y)\n",
    "        flow_z_results.append(flow_z)\n",
    "\n",
    "    print(f\"Optical Flow Calculation Completed for {channel_name}.\")\n",
    "\n",
    "    return magnitude_results, flow_x_results, flow_y_results, flow_z_results\n",
    "\n"
   ]
  },
  {
   "cell_type": "code",
   "execution_count": 7,
   "id": "91b42abf-7f75-4cf3-9428-39e95e4bfccb",
   "metadata": {},
   "outputs": [
    {
     "name": "stdout",
     "output_type": "stream",
     "text": [
      "Starting Optical Flow Calculation for Ch0...\n"
     ]
    },
    {
     "name": "stderr",
     "output_type": "stream",
     "text": [
      "Calculating Optical Flow (Ch0): 100%|████████| 55/55 [2:51:28<00:00, 187.07s/it]"
     ]
    },
    {
     "name": "stdout",
     "output_type": "stream",
     "text": [
      "Optical Flow Calculation Completed for Ch0.\n"
     ]
    },
    {
     "name": "stderr",
     "output_type": "stream",
     "text": [
      "\n"
     ]
    }
   ],
   "source": [
    "# Calculate optical flow for Channel 0\n",
    "magnitude_ch0, flow_x_ch0, flow_y_ch0, flow_z_ch0 = calculate_optical_flow(MergedmTmG2_Ch0, \"Ch0\")\n"
   ]
  },
  {
   "cell_type": "code",
   "execution_count": 8,
   "id": "be032ee8-d898-4953-a239-d81d5e96d1d8",
   "metadata": {},
   "outputs": [
    {
     "name": "stdout",
     "output_type": "stream",
     "text": [
      "Starting Optical Flow Calculation for Ch1...\n"
     ]
    },
    {
     "name": "stderr",
     "output_type": "stream",
     "text": [
      "Calculating Optical Flow (Ch1): 100%|████████| 55/55 [1:44:39<00:00, 114.18s/it]"
     ]
    },
    {
     "name": "stdout",
     "output_type": "stream",
     "text": [
      "Optical Flow Calculation Completed for Ch1.\n"
     ]
    },
    {
     "name": "stderr",
     "output_type": "stream",
     "text": [
      "\n"
     ]
    }
   ],
   "source": [
    "# Calculate optical flow for Channel 1\n",
    "magnitude_ch1, flow_x_ch1, flow_y_ch1, flow_z_ch1 = calculate_optical_flow(MergedmTmG2_Ch1, \"Ch1\")\n"
   ]
  },
  {
   "cell_type": "code",
   "execution_count": 9,
   "id": "4e18ecd5-3669-4dea-ab23-cfcd709e71e4",
   "metadata": {},
   "outputs": [
    {
     "name": "stdout",
     "output_type": "stream",
     "text": [
      "Saving Optical Flow Results for Ch0...\n",
      "Results saved in optical_flow_results/Ch0_*.npy\n",
      "Saving Optical Flow Results for Ch1...\n",
      "Results saved in optical_flow_results/Ch1_*.npy\n",
      "All results saved successfully!\n"
     ]
    }
   ],
   "source": [
    "# Define function to save results\n",
    "def save_optical_flow_results(magnitude, flow_x, flow_y, flow_z, channel_name):\n",
    "    print(f\"Saving Optical Flow Results for {channel_name}...\")\n",
    "\n",
    "    np.save(os.path.join(output_dir, f\"{channel_name}_magnitude.npy\"), np.array(magnitude))\n",
    "    np.save(os.path.join(output_dir, f\"{channel_name}_flow_x.npy\"), np.array(flow_x))\n",
    "    np.save(os.path.join(output_dir, f\"{channel_name}_flow_y.npy\"), np.array(flow_y))\n",
    "    np.save(os.path.join(output_dir, f\"{channel_name}_flow_z.npy\"), np.array(flow_z))\n",
    "\n",
    "    print(f\"Results saved in {output_dir}/{channel_name}_*.npy\")\n",
    "\n",
    "# Create a directory for saving results using a relative path\n",
    "output_dir = \"optical_flow_results\"\n",
    "os.makedirs(output_dir, exist_ok=True)  # Ensure directory exists\n",
    "\n",
    "# Save results for both channels\n",
    "save_optical_flow_results(magnitude_ch0, flow_x_ch0, flow_y_ch0, flow_z_ch0, \"Ch0\")\n",
    "save_optical_flow_results(magnitude_ch1, flow_x_ch1, flow_y_ch1, flow_z_ch1, \"Ch1\")\n",
    "\n",
    "print(\"All results saved successfully!\")\n"
   ]
  },
  {
   "cell_type": "code",
   "execution_count": null,
   "id": "3e470b91-f14f-4f5c-8edd-6d0b33e236f6",
   "metadata": {},
   "outputs": [],
   "source": []
  },
  {
   "cell_type": "code",
   "execution_count": null,
   "id": "792661fd-ed9c-4003-8134-b093a17ec45a",
   "metadata": {},
   "outputs": [],
   "source": []
  },
  {
   "cell_type": "markdown",
   "id": "9b41b749-0353-4ab9-be06-a7b762611732",
   "metadata": {},
   "source": [
    "## Load the Optical Flow result "
   ]
  },
  {
   "cell_type": "code",
   "execution_count": 6,
   "id": "66c68555-b4fc-46a6-bd49-1984215f7b99",
   "metadata": {},
   "outputs": [
    {
     "name": "stdout",
     "output_type": "stream",
     "text": [
      "Results loaded successfully!\n"
     ]
    }
   ],
   "source": [
    "# Define the relative path for the results directory\n",
    "results_dir = \"optical_flow_results\"\n",
    "\n",
    "# Load results for Channel 0\n",
    "ch0_magnitude = np.load(os.path.join(results_dir, \"Ch0_magnitude.npy\"))\n",
    "ch0_flow_x = np.load(os.path.join(results_dir, \"Ch0_flow_x.npy\"))\n",
    "ch0_flow_y = np.load(os.path.join(results_dir, \"Ch0_flow_y.npy\"))\n",
    "ch0_flow_z = np.load(os.path.join(results_dir, \"Ch0_flow_z.npy\"))\n",
    "\n",
    "# Load results for Channel 1\n",
    "ch1_magnitude = np.load(os.path.join(results_dir, \"Ch1_magnitude.npy\"))\n",
    "ch1_flow_x = np.load(os.path.join(results_dir, \"Ch1_flow_x.npy\"))\n",
    "ch1_flow_y = np.load(os.path.join(results_dir, \"Ch1_flow_y.npy\"))\n",
    "ch1_flow_z = np.load(os.path.join(results_dir, \"Ch1_flow_z.npy\"))\n",
    "\n",
    "print(\"Results loaded successfully!\")"
   ]
  },
  {
   "cell_type": "code",
   "execution_count": 7,
   "id": "28ea2880-e7ca-48ca-a248-136b5ed11a4d",
   "metadata": {},
   "outputs": [
    {
     "name": "stdout",
     "output_type": "stream",
     "text": [
      "Filtering magnitude for Ch0...\n",
      "Filtered magnitude saved at: optical_flow_results/Ch0_filtered_magnitude.npy\n",
      "Filtering magnitude for Ch1...\n",
      "Filtered magnitude saved at: optical_flow_results/Ch1_filtered_magnitude.npy\n",
      "Filtering complete for both channels.\n"
     ]
    }
   ],
   "source": [
    "## Filter the magnitude of both channels\n",
    "\n",
    "# Define the relative path for results\n",
    "results_dir = \"optical_flow_results\"\n",
    "os.makedirs(results_dir, exist_ok=True)  # Ensure directory exists\n",
    "\n",
    "# Define threshold values\n",
    "lower_threshold = 2\n",
    "upper_threshold = 10\n",
    "\n",
    "# Function to filter magnitude values\n",
    "def filter_magnitude(magnitude_data, channel_name):\n",
    "    print(f\"Filtering magnitude for {channel_name}...\")\n",
    "\n",
    "    filtered_magnitude = [\n",
    "        np.where(\n",
    "            (m >= lower_threshold) & (m <= upper_threshold),\n",
    "            m,\n",
    "            0\n",
    "        ) for m in magnitude_data\n",
    "    ]\n",
    "\n",
    "    # Save filtered magnitudes\n",
    "    filtered_magnitude_file = os.path.join(results_dir, f\"{channel_name}_filtered_magnitude.npy\")\n",
    "    np.save(filtered_magnitude_file, np.array(filtered_magnitude))\n",
    "\n",
    "    print(f\"Filtered magnitude saved at: {filtered_magnitude_file}\")\n",
    "\n",
    "# Apply filtering and saving for both Ch0 and Ch1\n",
    "filter_magnitude(ch0_magnitude, \"Ch0\")\n",
    "filter_magnitude(ch1_magnitude, \"Ch1\")\n",
    "\n",
    "print(\"Filtering complete for both channels.\")\n",
    "\n"
   ]
  },
  {
   "cell_type": "code",
   "execution_count": 8,
   "id": "f79a528f-d9b2-41aa-bfe3-8d2ab92c37f3",
   "metadata": {},
   "outputs": [
    {
     "name": "stdout",
     "output_type": "stream",
     "text": [
      "Filtered Results loaded successfully!\n"
     ]
    }
   ],
   "source": [
    "# Define the relative path for the results directory\n",
    "results_dir = \"optical_flow_results\"\n",
    "\n",
    "# Load results for Channel 0\n",
    "ch0_filtered_magnitude = np.load(os.path.join(results_dir, \"Ch0_filtered_magnitude.npy\"))\n",
    "\n",
    "# Load results for Channel 1\n",
    "ch1_filtered_magnitude = np.load(os.path.join(results_dir, \"Ch1_filtered_magnitude.npy\"))\n",
    "\n",
    "print(\"Filtered Results loaded successfully!\")"
   ]
  },
  {
   "cell_type": "code",
   "execution_count": null,
   "id": "aed700e0-f988-4084-81d6-af9f894a99ff",
   "metadata": {},
   "outputs": [],
   "source": []
  },
  {
   "cell_type": "markdown",
   "id": "51f2ad87-d558-4a19-b590-75153337a343",
   "metadata": {},
   "source": [
    "## Visualization (in napari)"
   ]
  },
  {
   "cell_type": "code",
   "execution_count": null,
   "id": "51574c0f-2060-4158-8cfe-5ef0a9f67ab4",
   "metadata": {},
   "outputs": [],
   "source": [
    "import napari\n",
    "\n",
    "viewer = napari.Viewer()\n",
    "\n",
    "\n",
    "viewer.add_image(ch1_flow_z, name=\"ch1_flow_z\")\n",
    "viewer.add_image(ch1_flow_y, name=\"ch1_flow_y\")\n",
    "viewer.add_image(ch1_flow_x, name=\"ch1_flow_x\")\n",
    "\n",
    "viewer.add_image(ch0_flow_z, name=\"ch0_flow_z\")\n",
    "viewer.add_image(ch0_flow_y, name=\"ch0_flow_y\")\n",
    "viewer.add_image(ch0_flow_x, name=\"ch0_flow_x\")\n",
    "\n",
    "\n",
    "viewer.add_image(ch1_magnitude, name=\"ch1_magnitude\")\n",
    "viewer.add_image(ch0_magnitude, name=\"ch0_magnitude\")\n",
    "\n",
    "viewer.add_image(ch1_filtered_magnitude, name=\"ch1_filtered_magnitude\")\n",
    "viewer.add_image(ch0_filtered_magnitude, name=\"ch0_filtered_magnitude\")\n",
    "\n",
    "viewer.add_image(MergedmTmG2_Ch1[:-1,:,:,:], name=\"MergedmTmG2_Ch1\")\n",
    "viewer.add_image(MergedmTmG2_Ch0[:-1,:,:,:], name=\"MergedmTmG2_Ch0\")\n",
    "napari.run()\n"
   ]
  }
 ],
 "metadata": {
  "kernelspec": {
   "display_name": "Python 3 (ipykernel)",
   "language": "python",
   "name": "python3"
  },
  "language_info": {
   "codemirror_mode": {
    "name": "ipython",
    "version": 3
   },
   "file_extension": ".py",
   "mimetype": "text/x-python",
   "name": "python",
   "nbconvert_exporter": "python",
   "pygments_lexer": "ipython3",
   "version": "3.12.2"
  }
 },
 "nbformat": 4,
 "nbformat_minor": 5
}
